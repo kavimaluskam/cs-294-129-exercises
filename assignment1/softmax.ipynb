{
 "cells": [
  {
   "cell_type": "markdown",
   "metadata": {},
   "source": [
    "# Softmax exercise\n",
    "\n",
    "*Complete and hand in this completed worksheet (including its outputs and any supporting code outside of the worksheet) with your assignment submission. For more details see the [assignments page](https://bcourses.berkeley.edu/courses/1453965/assignments/7738616) on the course website.*\n",
    "\n",
    "This exercise is analogous to the SVM exercise. You will:\n",
    "\n",
    "- implement a fully-vectorized **loss function** for the Softmax classifier\n",
    "- implement the fully-vectorized expression for its **analytic gradient**\n",
    "- **check your implementation** with numerical gradient\n",
    "- use a validation set to **tune the learning rate and regularization** strength\n",
    "- **optimize** the loss function with **SGD**\n",
    "- **visualize** the final learned weights\n"
   ]
  },
  {
   "cell_type": "code",
   "execution_count": 1,
   "metadata": {
    "collapsed": false
   },
   "outputs": [],
   "source": [
    "import random\n",
    "import numpy as np\n",
    "from cs294_129.data_utils import load_CIFAR10\n",
    "import matplotlib.pyplot as plt\n",
    "%matplotlib inline\n",
    "plt.rcParams['figure.figsize'] = (10.0, 8.0) # set default size of plots\n",
    "plt.rcParams['image.interpolation'] = 'nearest'\n",
    "plt.rcParams['image.cmap'] = 'gray'\n",
    "\n",
    "# for auto-reloading extenrnal modules\n",
    "# see http://stackoverflow.com/questions/1907993/autoreload-of-modules-in-ipython\n",
    "%load_ext autoreload\n",
    "%autoreload 2"
   ]
  },
  {
   "cell_type": "code",
   "execution_count": 2,
   "metadata": {
    "collapsed": false
   },
   "outputs": [
    {
     "name": "stdout",
     "output_type": "stream",
     "text": [
      "Train data shape:  (49000, 3073)\n",
      "Train labels shape:  (49000,)\n",
      "Validation data shape:  (1000, 3073)\n",
      "Validation labels shape:  (1000,)\n",
      "Test data shape:  (1000, 3073)\n",
      "Test labels shape:  (1000,)\n",
      "dev data shape:  (500, 3073)\n",
      "dev labels shape:  (500,)\n"
     ]
    }
   ],
   "source": [
    "def get_CIFAR10_data(num_training=49000, num_validation=1000, num_test=1000, num_dev=500):\n",
    "  \"\"\"\n",
    "  Load the CIFAR-10 dataset from disk and perform preprocessing to prepare\n",
    "  it for the linear classifier. These are the same steps as we used for the\n",
    "  SVM, but condensed to a single function.  \n",
    "  \"\"\"\n",
    "  # Load the raw CIFAR-10 data\n",
    "  cifar10_dir = 'cs294_129/datasets/cifar-10-batches-py'\n",
    "  X_train, y_train, X_test, y_test = load_CIFAR10(cifar10_dir)\n",
    "  \n",
    "  # subsample the data\n",
    "  mask = range(num_training, num_training + num_validation)\n",
    "  X_val = X_train[mask]\n",
    "  y_val = y_train[mask]\n",
    "  mask = range(num_training)\n",
    "  X_train = X_train[mask]\n",
    "  y_train = y_train[mask]\n",
    "  mask = range(num_test)\n",
    "  X_test = X_test[mask]\n",
    "  y_test = y_test[mask]\n",
    "  mask = np.random.choice(num_training, num_dev, replace=False)\n",
    "  X_dev = X_train[mask]\n",
    "  y_dev = y_train[mask]\n",
    "  \n",
    "  # Preprocessing: reshape the image data into rows\n",
    "  X_train = np.reshape(X_train, (X_train.shape[0], -1))\n",
    "  X_val = np.reshape(X_val, (X_val.shape[0], -1))\n",
    "  X_test = np.reshape(X_test, (X_test.shape[0], -1))\n",
    "  X_dev = np.reshape(X_dev, (X_dev.shape[0], -1))\n",
    "  \n",
    "  # Normalize the data: subtract the mean image\n",
    "  mean_image = np.mean(X_train, axis = 0)\n",
    "  X_train -= mean_image\n",
    "  X_val -= mean_image\n",
    "  X_test -= mean_image\n",
    "  X_dev -= mean_image\n",
    "  \n",
    "  # add bias dimension and transform into columns\n",
    "  X_train = np.hstack([X_train, np.ones((X_train.shape[0], 1))])\n",
    "  X_val = np.hstack([X_val, np.ones((X_val.shape[0], 1))])\n",
    "  X_test = np.hstack([X_test, np.ones((X_test.shape[0], 1))])\n",
    "  X_dev = np.hstack([X_dev, np.ones((X_dev.shape[0], 1))])\n",
    "  \n",
    "  return X_train, y_train, X_val, y_val, X_test, y_test, X_dev, y_dev\n",
    "\n",
    "\n",
    "# Invoke the above function to get our data.\n",
    "X_train, y_train, X_val, y_val, X_test, y_test, X_dev, y_dev = get_CIFAR10_data()\n",
    "print 'Train data shape: ', X_train.shape\n",
    "print 'Train labels shape: ', y_train.shape\n",
    "print 'Validation data shape: ', X_val.shape\n",
    "print 'Validation labels shape: ', y_val.shape\n",
    "print 'Test data shape: ', X_test.shape\n",
    "print 'Test labels shape: ', y_test.shape\n",
    "print 'dev data shape: ', X_dev.shape\n",
    "print 'dev labels shape: ', y_dev.shape"
   ]
  },
  {
   "cell_type": "markdown",
   "metadata": {},
   "source": [
    "## Softmax Classifier\n",
    "\n",
    "Your code for this section will all be written inside **cs294_129/classifiers/softmax.py**. \n"
   ]
  },
  {
   "cell_type": "code",
   "execution_count": 3,
   "metadata": {
    "collapsed": false
   },
   "outputs": [
    {
     "name": "stdout",
     "output_type": "stream",
     "text": [
      "loss: 2.314436\n",
      "sanity check: 2.302585\n"
     ]
    }
   ],
   "source": [
    "# First implement the naive softmax loss function with nested loops.\n",
    "# Open the file cs294_129/classifiers/softmax.py and implement the\n",
    "# softmax_loss_naive function.\n",
    "\n",
    "from cs294_129.classifiers.softmax import softmax_loss_naive\n",
    "import time\n",
    "\n",
    "# Generate a random softmax weight matrix and use it to compute the loss.\n",
    "W = np.random.randn(3073, 10) * 0.0001\n",
    "loss, grad = softmax_loss_naive(W, X_dev, y_dev, 0.0)\n",
    "\n",
    "# As a rough sanity check, our loss should be something close to -log(0.1).\n",
    "print 'loss: %f' % loss\n",
    "print 'sanity check: %f' % (-np.log(0.1))"
   ]
  },
  {
   "cell_type": "markdown",
   "metadata": {},
   "source": [
    "## Inline Question 1:\n",
    "Why do we expect our loss to be close to -log(0.1)? Explain briefly.**\n",
    "\n",
    "**Your answer:** \n",
    "- Recap softmax_loss = -log(probabilistic_interpretation)\n",
    "- With random inited weight, the classification's accruacy is similar to random guessing between 10 classes, with equals to 0.1\n"
   ]
  },
  {
   "cell_type": "code",
   "execution_count": 4,
   "metadata": {
    "collapsed": false
   },
   "outputs": [
    {
     "name": "stdout",
     "output_type": "stream",
     "text": [
      "numerical: 0.050046 analytic: 0.050046, relative error: 1.710582e-06\n",
      "numerical: -0.905728 analytic: -0.905728, relative error: 5.163847e-08\n",
      "numerical: 2.343667 analytic: 2.343667, relative error: 4.447936e-08\n",
      "numerical: 0.706169 analytic: 0.706169, relative error: 5.513362e-09\n",
      "numerical: -0.327939 analytic: -0.327939, relative error: 5.883238e-08\n",
      "numerical: -1.018838 analytic: -1.018838, relative error: 1.747444e-08\n",
      "numerical: 2.750638 analytic: 2.750638, relative error: 1.221036e-08\n",
      "numerical: -1.144331 analytic: -1.144331, relative error: 3.616569e-08\n",
      "numerical: 1.144965 analytic: 1.144965, relative error: 3.589995e-08\n",
      "numerical: -0.251430 analytic: -0.251430, relative error: 7.545938e-08\n",
      "numerical: -2.059142 analytic: -2.059142, relative error: 2.606311e-09\n",
      "numerical: 1.071423 analytic: 1.071423, relative error: 4.380411e-08\n",
      "numerical: -1.971369 analytic: -1.971369, relative error: 2.392727e-08\n",
      "numerical: -2.051850 analytic: -2.051850, relative error: 2.393667e-08\n",
      "numerical: 1.376189 analytic: 1.376189, relative error: 2.271450e-08\n",
      "numerical: -1.238570 analytic: -1.238570, relative error: 3.183653e-08\n",
      "numerical: 1.496379 analytic: 1.496379, relative error: 1.025298e-08\n",
      "numerical: 1.137601 analytic: 1.137601, relative error: 5.790302e-08\n",
      "numerical: -0.180885 analytic: -0.180885, relative error: 2.079139e-08\n",
      "numerical: 0.603655 analytic: 0.603655, relative error: 5.590978e-08\n"
     ]
    }
   ],
   "source": [
    "# Complete the implementation of softmax_loss_naive and implement a (naive)\n",
    "# version of the gradient that uses nested loops.\n",
    "loss, grad = softmax_loss_naive(W, X_dev, y_dev, 0.0)\n",
    "\n",
    "# As we did for the SVM, use numeric gradient checking as a debugging tool.\n",
    "# The numeric gradient should be close to the analytic gradient.\n",
    "from cs294_129.gradient_check import grad_check_sparse\n",
    "f = lambda w: softmax_loss_naive(w, X_dev, y_dev, 0.0)[0]\n",
    "grad_numerical = grad_check_sparse(f, W, grad, 10)\n",
    "\n",
    "# similar to SVM case, do another gradient check with regularization\n",
    "loss, grad = softmax_loss_naive(W, X_dev, y_dev, 1e2)\n",
    "f = lambda w: softmax_loss_naive(w, X_dev, y_dev, 1e2)[0]\n",
    "grad_numerical = grad_check_sparse(f, W, grad, 10)"
   ]
  },
  {
   "cell_type": "code",
   "execution_count": 5,
   "metadata": {
    "collapsed": false
   },
   "outputs": [
    {
     "name": "stdout",
     "output_type": "stream",
     "text": [
      "naive loss: 2.314436e+00 computed in 0.103099s\n",
      "vectorized loss: 2.314436e+00 computed in 0.006266s\n",
      "Loss difference: 0.000000\n",
      "Gradient difference: 0.000000\n"
     ]
    }
   ],
   "source": [
    "# Now that we have a naive implementation of the softmax loss function and its gradient,\n",
    "# implement a vectorized version in softmax_loss_vectorized.\n",
    "# The two versions should compute the same results, but the vectorized version should be\n",
    "# much faster.\n",
    "tic = time.time()\n",
    "loss_naive, grad_naive = softmax_loss_naive(W, X_dev, y_dev, 0.00001)\n",
    "toc = time.time()\n",
    "print 'naive loss: %e computed in %fs' % (loss_naive, toc - tic)\n",
    "\n",
    "from cs294_129.classifiers.softmax import softmax_loss_vectorized\n",
    "tic = time.time()\n",
    "loss_vectorized, grad_vectorized = softmax_loss_vectorized(W, X_dev, y_dev, 0.00001)\n",
    "toc = time.time()\n",
    "print 'vectorized loss: %e computed in %fs' % (loss_vectorized, toc - tic)\n",
    "\n",
    "# As we did for the SVM, we use the Frobenius norm to compare the two versions\n",
    "# of the gradient.\n",
    "grad_difference = np.linalg.norm(grad_naive - grad_vectorized, ord='fro')\n",
    "print 'Loss difference: %f' % np.abs(loss_naive - loss_vectorized)\n",
    "print 'Gradient difference: %f' % grad_difference"
   ]
  },
  {
   "cell_type": "code",
   "execution_count": null,
   "metadata": {
    "collapsed": false
   },
   "outputs": [
    {
     "name": "stdout",
     "output_type": "stream",
     "text": [
      "iteration 0 / 1500: loss 114.509988\n",
      "iteration 100 / 1500: loss 98.303158\n",
      "iteration 200 / 1500: loss 85.634728\n",
      "iteration 300 / 1500: loss 74.223824\n",
      "iteration 400 / 1500: loss 64.644375\n",
      "iteration 500 / 1500: loss 56.197523\n",
      "iteration 600 / 1500: loss 49.089113\n",
      "iteration 700 / 1500: loss 42.828951\n",
      "iteration 800 / 1500: loss 37.367359\n",
      "iteration 900 / 1500: loss 32.682671\n",
      "iteration 1000 / 1500: loss 28.635455\n",
      "iteration 1100 / 1500: loss 24.999131\n",
      "iteration 1200 / 1500: loss 22.076185\n",
      "iteration 1300 / 1500: loss 19.324939\n",
      "iteration 1400 / 1500: loss 17.144582\n",
      "iteration 0 / 1500: loss 126.600503\n",
      "iteration 100 / 1500: loss 106.498100\n",
      "iteration 200 / 1500: loss 90.613094\n",
      "iteration 300 / 1500: loss 77.207139\n",
      "iteration 400 / 1500: loss 65.837386\n",
      "iteration 500 / 1500: loss 56.145752\n",
      "iteration 600 / 1500: loss 48.293673\n",
      "iteration 700 / 1500: loss 41.296046\n",
      "iteration 800 / 1500: loss 35.514585\n",
      "iteration 900 / 1500: loss 30.508022\n",
      "iteration 1000 / 1500: loss 26.156481\n",
      "iteration 1100 / 1500: loss 22.498218\n",
      "iteration 1200 / 1500: loss 19.502528\n",
      "iteration 1300 / 1500: loss 16.803796\n",
      "iteration 1400 / 1500: loss 14.631989\n",
      "iteration 0 / 1500: loss 143.688148\n",
      "iteration 100 / 1500: loss 118.339818\n",
      "iteration 200 / 1500: loss 99.016250\n",
      "iteration 300 / 1500: loss 82.999080\n",
      "iteration 400 / 1500: loss 69.482287\n",
      "iteration 500 / 1500: loss 57.908161\n",
      "iteration 600 / 1500: loss 48.694659\n",
      "iteration 700 / 1500: loss 40.760084\n",
      "iteration 800 / 1500: loss 34.396836\n",
      "iteration 900 / 1500: loss 28.950273\n",
      "iteration 1000 / 1500: loss 24.463317\n",
      "iteration 1100 / 1500: loss 20.938108\n",
      "iteration 1200 / 1500: loss 17.569575\n",
      "iteration 1300 / 1500: loss 15.043057\n",
      "iteration 1400 / 1500: loss 12.907917\n",
      "iteration 0 / 1500: loss 160.169780\n",
      "iteration 100 / 1500: loss 129.482169\n",
      "iteration 200 / 1500: loss 105.682899\n",
      "iteration 300 / 1500: loss 86.462278\n",
      "iteration 400 / 1500: loss 71.180804\n",
      "iteration 500 / 1500: loss 58.466710\n",
      "iteration 600 / 1500: loss 48.139027\n",
      "iteration 700 / 1500: loss 39.748567\n",
      "iteration 800 / 1500: loss 32.823916\n",
      "iteration 900 / 1500: loss 27.172340\n",
      "iteration 1000 / 1500: loss 22.684272\n",
      "iteration 1100 / 1500: loss 18.809112\n",
      "iteration 1200 / 1500: loss 15.706729\n",
      "iteration 1300 / 1500: loss 13.299198\n",
      "iteration 1400 / 1500: loss 11.135734\n",
      "iteration 0 / 1500: loss 172.469716\n",
      "iteration 100 / 1500: loss 137.579092\n",
      "iteration 200 / 1500: loss 110.498853\n",
      "iteration 300 / 1500: loss 88.601682"
     ]
    }
   ],
   "source": [
    "# Use the validation set to tune hyperparameters (regularization strength and\n",
    "# learning rate). You should experiment with different ranges for the learning\n",
    "# rates and regularization strengths; if you are careful you should be able to\n",
    "# get a classification accuracy of over 0.35 on the validation set.\n",
    "from cs294_129.classifiers import Softmax\n",
    "results = {}\n",
    "best_val = -1\n",
    "best_softmax = None\n",
    "learning_rates = [1e-7, 3e-7, 5e-7]\n",
    "#regularization_strengths = [5e4, 1e8]\n",
    "regularization_strengths =[(1+0.1*i)*1e4 for i in range(-3,4)] + [(5+0.1*i)*1e4 for i in range(-3,4)]\n",
    "\n",
    "################################################################################\n",
    "# TODO:                                                                        #\n",
    "# Use the validation set to set the learning rate and regularization strength. #\n",
    "# This should be identical to the validation that you did for the SVM; save    #\n",
    "# the best trained softmax classifer in best_softmax.                          #\n",
    "################################################################################\n",
    "for lr in learning_rates:\n",
    "    for reg in regularization_strengths:\n",
    "        \n",
    "        # Train\n",
    "        softmax = Softmax()\n",
    "        softmax.train(\n",
    "            X_train, \n",
    "            y_train, \n",
    "            learning_rate=lr, \n",
    "            reg=reg, \n",
    "            num_iters=1500, \n",
    "            verbose=True\n",
    "        )\n",
    "        \n",
    "        # Training accuracy\n",
    "        y_train_pred_cv = softmax.predict(X_train)\n",
    "        train_accuracy_cv = np.mean(y_train == y_train_pred_cv)\n",
    "        \n",
    "        # Validation accuracy\n",
    "        y_val_pred_cv = softmax.predict(X_val)\n",
    "        val_accuracy_cv = np.mean(y_val == y_val_pred_cv)\n",
    "        \n",
    "        if val_accuracy_cv > best_val:\n",
    "            best_val = val_accuracy_cv\n",
    "            best_softmax = softmax\n",
    "            \n",
    "        results[(lr, reg)] = (train_accuracy_cv, val_accuracy_cv)\n",
    "\n",
    "################################################################################\n",
    "#                              END OF YOUR CODE                                #\n",
    "################################################################################\n",
    "    \n",
    "# Print out results.\n",
    "for lr, reg in sorted(results):\n",
    "    train_accuracy, val_accuracy = results[(lr, reg)]\n",
    "    print 'lr %e reg %e train accuracy: %f val accuracy: %f' % (\n",
    "                lr, reg, train_accuracy, val_accuracy)\n",
    "    \n",
    "print 'best validation accuracy achieved during cross-validation: %f' % best_val"
   ]
  },
  {
   "cell_type": "code",
   "execution_count": null,
   "metadata": {
    "collapsed": false
   },
   "outputs": [],
   "source": [
    "# evaluate on test set\n",
    "# Evaluate the best softmax on test set\n",
    "y_test_pred = best_softmax.predict(X_test)\n",
    "test_accuracy = np.mean(y_test == y_test_pred)\n",
    "print 'softmax on raw pixels final test set accuracy: %f' % (test_accuracy, )"
   ]
  },
  {
   "cell_type": "code",
   "execution_count": null,
   "metadata": {
    "collapsed": false
   },
   "outputs": [],
   "source": [
    "# Visualize the learned weights for each class\n",
    "w = best_softmax.W[:-1,:] # strip out the bias\n",
    "w = w.reshape(32, 32, 3, 10)\n",
    "\n",
    "w_min, w_max = np.min(w), np.max(w)\n",
    "\n",
    "classes = ['plane', 'car', 'bird', 'cat', 'deer', 'dog', 'frog', 'horse', 'ship', 'truck']\n",
    "for i in xrange(10):\n",
    "  plt.subplot(2, 5, i + 1)\n",
    "  \n",
    "  # Rescale the weights to be between 0 and 255\n",
    "  wimg = 255.0 * (w[:, :, :, i].squeeze() - w_min) / (w_max - w_min)\n",
    "  plt.imshow(wimg.astype('uint8'))\n",
    "  plt.axis('off')\n",
    "  plt.title(classes[i])"
   ]
  }
 ],
 "metadata": {
  "kernelspec": {
   "display_name": "Python 2",
   "language": "python",
   "name": "python2"
  },
  "language_info": {
   "codemirror_mode": {
    "name": "ipython",
    "version": 2
   },
   "file_extension": ".py",
   "mimetype": "text/x-python",
   "name": "python",
   "nbconvert_exporter": "python",
   "pygments_lexer": "ipython2",
   "version": "2.7.10"
  }
 },
 "nbformat": 4,
 "nbformat_minor": 0
}
